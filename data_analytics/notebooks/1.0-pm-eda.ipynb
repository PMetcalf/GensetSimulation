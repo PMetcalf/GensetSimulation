{
 "metadata": {
  "language_info": {
   "codemirror_mode": {
    "name": "ipython",
    "version": 3
   },
   "file_extension": ".py",
   "mimetype": "text/x-python",
   "name": "python",
   "nbconvert_exporter": "python",
   "pygments_lexer": "ipython3",
   "version": "3.6.6-final"
  },
  "orig_nbformat": 2,
  "kernelspec": {
   "name": "python_defaultSpec_1600156256744",
   "display_name": "Python 3.6.6 64-bit"
  }
 },
 "nbformat": 4,
 "nbformat_minor": 2,
 "cells": [
  {
   "cell_type": "code",
   "execution_count": 1,
   "metadata": {},
   "outputs": [],
   "source": [
    "# Module Importations\n",
    "import pandas as pd"
   ]
  },
  {
   "cell_type": "code",
   "execution_count": 2,
   "metadata": {},
   "outputs": [],
   "source": [
    "# Project Module Importations\n",
    "from GensetSimulation.data_analytics.src.data import cosmos_client_manager\n",
    "from GensetSimulation.data_analytics.src.data import load_data\n",
    "from GensetSimulation.data_analytics.src.features import data_munging"
   ]
  },
  {
   "cell_type": "code",
   "execution_count": 3,
   "metadata": {},
   "outputs": [],
   "source": [
    "# Constants (i.e. for saving figures)"
   ]
  },
  {
   "cell_type": "code",
   "execution_count": 3,
   "metadata": {
    "tags": []
   },
   "outputs": [
    {
     "output_type": "stream",
     "name": "stdout",
     "text": "Database with id 'BMRS Data' was found, link is dbs/BMRS Data\nContainer with id 'DataElement' was found, link is dbs/BMRS Data/colls/DataElement\nReading all items in container\nFound 22924 items\n"
    }
   ],
   "source": [
    "# Load data from database\n",
    "client = cosmos_client_manager.intialise_client()\n",
    "database = cosmos_client_manager.return_database(client)\n",
    "container = cosmos_client_manager.return_container(database)\n",
    "item_list = cosmos_client_manager.read_items(container)"
   ]
  },
  {
   "cell_type": "code",
   "execution_count": 4,
   "metadata": {
    "tags": []
   },
   "outputs": [],
   "source": [
    "# Convert to dataframe\n",
    "df_items = load_data.convert_dict_to_dataframe(item_list)"
   ]
  },
  {
   "cell_type": "code",
   "execution_count": 11,
   "metadata": {
    "tags": []
   },
   "outputs": [
    {
     "output_type": "stream",
     "name": "stdout",
     "text": "Saved dataframe locally ...\n"
    }
   ],
   "source": [
    "# Save dataframe locally\n",
    "load_data.save_local_dataframe(df_items)"
   ]
  },
  {
   "cell_type": "code",
   "execution_count": 3,
   "metadata": {
    "tags": []
   },
   "outputs": [
    {
     "output_type": "stream",
     "name": "stdout",
     "text": "Loaded local dataframe ...\n"
    }
   ],
   "source": [
    "df_new = load_data.load_local_dataframe()"
   ]
  },
  {
   "cell_type": "code",
   "execution_count": 4,
   "metadata": {
    "tags": []
   },
   "outputs": [
    {
     "output_type": "stream",
     "name": "stdout",
     "text": "id                     docType           busType  \\\n0          2020-08-01-P01-Solar  Actual generation per type  Solar generation   \n1  2020-08-01-P01-Wind Offshore  Actual generation per type   Wind generation   \n2   2020-08-01-P01-Wind Onshore  Actual generation per type   Wind generation   \n3          2020-08-01-P01-Other  Actual generation per type        Production   \n4        2020-08-01-P01-Nuclear  Actual generation per type        Production   \n\n    proType                       timeId  quantity  \\\n0  Realised  NGET-EMFIP-AGPT-TS-21630860         1   \n1  Realised  NGET-EMFIP-AGPT-TS-21630861  4509.018   \n2  Realised  NGET-EMFIP-AGPT-TS-21630862  1721.168   \n3  Realised  NGET-EMFIP-AGPT-TS-21630863       144   \n4  Realised  NGET-EMFIP-AGPT-TS-21630864      5293   \n\n                     curveType resolution     setDate setPeriod  \\\n0  Sequential fixed size block      PT30M  2020-08-01         1   \n1  Sequential fixed size block      PT30M  2020-08-01         1   \n2  Sequential fixed size block      PT30M  2020-08-01         1   \n3  Sequential fixed size block      PT30M  2020-08-01         1   \n4  Sequential fixed size block      PT30M  2020-08-01         1   \n\n           powType actFlag                     docId docRevNum  \\\n0          \"Solar\"       Y  NGET-EMFIP-AGPT-06373975         1   \n1  \"Wind Offshore\"       Y  NGET-EMFIP-AGPT-06373975         1   \n2   \"Wind Onshore\"       Y  NGET-EMFIP-AGPT-06373975         1   \n3          \"Other\"       Y  NGET-EMFIP-AGPT-06373975         1   \n4        \"Nuclear\"       Y  NGET-EMFIP-AGPT-06373975         1   \n\n                       _rid  \\\n0  p705AIYR-+UBAAAAAAAAAA==   \n1  p705AIYR-+UCAAAAAAAAAA==   \n2  p705AIYR-+UDAAAAAAAAAA==   \n3  p705AIYR-+UEAAAAAAAAAA==   \n4  p705AIYR-+UFAAAAAAAAAA==   \n\n                                               _self  \\\n0  dbs/p705AA==/colls/p705AIYR-+U=/docs/p705AIYR-...   \n1  dbs/p705AA==/colls/p705AIYR-+U=/docs/p705AIYR-...   \n2  dbs/p705AA==/colls/p705AIYR-+U=/docs/p705AIYR-...   \n3  dbs/p705AA==/colls/p705AIYR-+U=/docs/p705AIYR-...   \n4  dbs/p705AA==/colls/p705AIYR-+U=/docs/p705AIYR-...   \n\n                                    _etag  _attachments         _ts  \n0  \"5300e371-0000-1100-0000-5f35153a0000\"  attachments/  1597314362  \n1  \"5300e471-0000-1100-0000-5f35153a0000\"  attachments/  1597314362  \n2  \"5300e571-0000-1100-0000-5f35153a0000\"  attachments/  1597314362  \n3  \"5300e671-0000-1100-0000-5f35153a0000\"  attachments/  1597314362  \n4  \"5300e771-0000-1100-0000-5f35153a0000\"  attachments/  1597314362  \n"
    }
   ],
   "source": [
    "print(df_new.head())"
   ]
  },
  {
   "cell_type": "code",
   "execution_count": 5,
   "metadata": {
    "tags": []
   },
   "outputs": [
    {
     "output_type": "stream",
     "name": "stdout",
     "text": "id                     docType           busType  \\\n0          2020-08-01-P01-Solar  Actual generation per type  Solar generation   \n1  2020-08-01-P01-Wind Offshore  Actual generation per type   Wind generation   \n2   2020-08-01-P01-Wind Onshore  Actual generation per type   Wind generation   \n3          2020-08-01-P01-Other  Actual generation per type        Production   \n4        2020-08-01-P01-Nuclear  Actual generation per type        Production   \n\n    proType                       timeId  quantity  \\\n0  Realised  NGET-EMFIP-AGPT-TS-21630860         1   \n1  Realised  NGET-EMFIP-AGPT-TS-21630861  4509.018   \n2  Realised  NGET-EMFIP-AGPT-TS-21630862  1721.168   \n3  Realised  NGET-EMFIP-AGPT-TS-21630863       144   \n4  Realised  NGET-EMFIP-AGPT-TS-21630864      5293   \n\n                     curveType resolution     setDate setPeriod  \\\n0  Sequential fixed size block      PT30M  2020-08-01         1   \n1  Sequential fixed size block      PT30M  2020-08-01         1   \n2  Sequential fixed size block      PT30M  2020-08-01         1   \n3  Sequential fixed size block      PT30M  2020-08-01         1   \n4  Sequential fixed size block      PT30M  2020-08-01         1   \n\n           powType actFlag                     docId docRevNum  \\\n0          \"Solar\"       Y  NGET-EMFIP-AGPT-06373975         1   \n1  \"Wind Offshore\"       Y  NGET-EMFIP-AGPT-06373975         1   \n2   \"Wind Onshore\"       Y  NGET-EMFIP-AGPT-06373975         1   \n3          \"Other\"       Y  NGET-EMFIP-AGPT-06373975         1   \n4        \"Nuclear\"       Y  NGET-EMFIP-AGPT-06373975         1   \n\n                                               _self  \\\n0  dbs/p705AA==/colls/p705AIYR-+U=/docs/p705AIYR-...   \n1  dbs/p705AA==/colls/p705AIYR-+U=/docs/p705AIYR-...   \n2  dbs/p705AA==/colls/p705AIYR-+U=/docs/p705AIYR-...   \n3  dbs/p705AA==/colls/p705AIYR-+U=/docs/p705AIYR-...   \n4  dbs/p705AA==/colls/p705AIYR-+U=/docs/p705AIYR-...   \n\n                                    _etag  _attachments         _ts  \n0  \"5300e371-0000-1100-0000-5f35153a0000\"  attachments/  1597314362  \n1  \"5300e471-0000-1100-0000-5f35153a0000\"  attachments/  1597314362  \n2  \"5300e571-0000-1100-0000-5f35153a0000\"  attachments/  1597314362  \n3  \"5300e671-0000-1100-0000-5f35153a0000\"  attachments/  1597314362  \n4  \"5300e771-0000-1100-0000-5f35153a0000\"  attachments/  1597314362  \n"
    }
   ],
   "source": [
    "df_modified = df_new.copy()\n",
    "\n",
    "# Remove column names from dataframe\n",
    "df_modified = df_modified.drop(\"_rid\", axis = 1)\n",
    "\n",
    "print(df_modified.head())"
   ]
  },
  {
   "cell_type": "code",
   "execution_count": 6,
   "metadata": {},
   "outputs": [],
   "source": [
    "df_final = data_munging.remove_unused_columns(df_new)"
   ]
  },
  {
   "cell_type": "code",
   "execution_count": 7,
   "metadata": {
    "tags": []
   },
   "outputs": [
    {
     "output_type": "stream",
     "name": "stdout",
     "text": "id                     docType           busType  \\\n0          2020-08-01-P01-Solar  Actual generation per type  Solar generation   \n1  2020-08-01-P01-Wind Offshore  Actual generation per type   Wind generation   \n2   2020-08-01-P01-Wind Onshore  Actual generation per type   Wind generation   \n3          2020-08-01-P01-Other  Actual generation per type        Production   \n4        2020-08-01-P01-Nuclear  Actual generation per type        Production   \n\n    proType                       timeId  quantity  \\\n0  Realised  NGET-EMFIP-AGPT-TS-21630860         1   \n1  Realised  NGET-EMFIP-AGPT-TS-21630861  4509.018   \n2  Realised  NGET-EMFIP-AGPT-TS-21630862  1721.168   \n3  Realised  NGET-EMFIP-AGPT-TS-21630863       144   \n4  Realised  NGET-EMFIP-AGPT-TS-21630864      5293   \n\n                     curveType resolution     setDate setPeriod  \\\n0  Sequential fixed size block      PT30M  2020-08-01         1   \n1  Sequential fixed size block      PT30M  2020-08-01         1   \n2  Sequential fixed size block      PT30M  2020-08-01         1   \n3  Sequential fixed size block      PT30M  2020-08-01         1   \n4  Sequential fixed size block      PT30M  2020-08-01         1   \n\n           powType actFlag                     docId docRevNum         _ts  \n0          \"Solar\"       Y  NGET-EMFIP-AGPT-06373975         1  1597314362  \n1  \"Wind Offshore\"       Y  NGET-EMFIP-AGPT-06373975         1  1597314362  \n2   \"Wind Onshore\"       Y  NGET-EMFIP-AGPT-06373975         1  1597314362  \n3          \"Other\"       Y  NGET-EMFIP-AGPT-06373975         1  1597314362  \n4        \"Nuclear\"       Y  NGET-EMFIP-AGPT-06373975         1  1597314362  \n"
    }
   ],
   "source": [
    "print(df_final.head())"
   ]
  },
  {
   "cell_type": "code",
   "execution_count": null,
   "metadata": {},
   "outputs": [],
   "source": []
  }
 ]
}