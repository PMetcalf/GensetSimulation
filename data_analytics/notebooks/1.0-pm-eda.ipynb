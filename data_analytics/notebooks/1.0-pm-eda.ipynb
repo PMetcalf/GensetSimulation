{
 "metadata": {
  "language_info": {
   "codemirror_mode": {
    "name": "ipython",
    "version": 3
   },
   "file_extension": ".py",
   "mimetype": "text/x-python",
   "name": "python",
   "nbconvert_exporter": "python",
   "pygments_lexer": "ipython3",
   "version": "3.6.6-final"
  },
  "orig_nbformat": 2,
  "kernelspec": {
   "name": "python_defaultSpec_1600156256744",
   "display_name": "Python 3.6.6 64-bit"
  }
 },
 "nbformat": 4,
 "nbformat_minor": 2,
 "cells": [
  {
   "cell_type": "code",
   "execution_count": 1,
   "metadata": {},
   "outputs": [],
   "source": [
    "# Module Importations\n",
    "import pandas as pd"
   ]
  },
  {
   "cell_type": "code",
   "execution_count": 8,
   "metadata": {},
   "outputs": [],
   "source": [
    "# Project Module Importations\n",
    "from GensetSimulation.data_analytics.src.data import cosmos_client_manager\n",
    "from GensetSimulation.data_analytics.src.data import load_data"
   ]
  },
  {
   "cell_type": "code",
   "execution_count": 3,
   "metadata": {},
   "outputs": [],
   "source": [
    "# Constants (i.e. for saving figures)"
   ]
  },
  {
   "cell_type": "code",
   "execution_count": 3,
   "metadata": {
    "tags": []
   },
   "outputs": [
    {
     "output_type": "stream",
     "name": "stdout",
     "text": "Database with id 'BMRS Data' was found, link is dbs/BMRS Data\nContainer with id 'DataElement' was found, link is dbs/BMRS Data/colls/DataElement\nReading all items in container\nFound 22924 items\n"
    }
   ],
   "source": [
    "# Load data from database\n",
    "client = cosmos_client_manager.intialise_client()\n",
    "database = cosmos_client_manager.return_database(client)\n",
    "container = cosmos_client_manager.return_container(database)\n",
    "item_list = cosmos_client_manager.read_items(container)"
   ]
  },
  {
   "cell_type": "code",
   "execution_count": 4,
   "metadata": {
    "tags": []
   },
   "outputs": [],
   "source": [
    "# Convert to dataframe\n",
    "df_items = load_data.convert_dict_to_dataframe(item_list)"
   ]
  },
  {
   "cell_type": "code",
   "execution_count": 11,
   "metadata": {
    "tags": []
   },
   "outputs": [
    {
     "output_type": "stream",
     "name": "stdout",
     "text": "Saved dataframe locally ...\n"
    }
   ],
   "source": [
    "# Save dataframe locally\n",
    "load_data.save_local_dataframe(df_items)"
   ]
  },
  {
   "cell_type": "code",
   "execution_count": 13,
   "metadata": {
    "tags": []
   },
   "outputs": [
    {
     "output_type": "stream",
     "name": "stdout",
     "text": "Loaded local dataframe ...\n"
    }
   ],
   "source": [
    "df_new = load_data.load_local_dataframe()"
   ]
  },
  {
   "cell_type": "code",
   "execution_count": null,
   "metadata": {},
   "outputs": [],
   "source": []
  }
 ]
}