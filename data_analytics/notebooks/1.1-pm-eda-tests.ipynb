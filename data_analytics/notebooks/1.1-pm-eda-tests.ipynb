{
 "metadata": {
  "language_info": {
   "codemirror_mode": {
    "name": "ipython",
    "version": 3
   },
   "file_extension": ".py",
   "mimetype": "text/x-python",
   "name": "python",
   "nbconvert_exporter": "python",
   "pygments_lexer": "ipython3",
   "version": "3.7.4-final"
  },
  "orig_nbformat": 2,
  "kernelspec": {
   "name": "Python 3.7.4 64-bit",
   "display_name": "Python 3.7.4 64-bit",
   "metadata": {
    "interpreter": {
     "hash": "535930ca3099d4dc51db283e59bcfbdfe2c582c9418ff4e43714f9d29a32d324"
    }
   }
  }
 },
 "nbformat": 4,
 "nbformat_minor": 2,
 "cells": [
  {
   "cell_type": "code",
   "execution_count": 1,
   "metadata": {},
   "outputs": [],
   "source": [
    "# Module Importations\n",
    "import datetime\n",
    "from matplotlib import pyplot as plt\n",
    "import pandas as pd\n",
    "import seaborn as sns\n",
    "from sklearn.model_selection import train_test_split"
   ]
  },
  {
   "cell_type": "code",
   "execution_count": 2,
   "metadata": {},
   "outputs": [],
   "source": [
    "# Project Module Importations\n",
    "from data_analytics.src.data import cosmos_client_manager\n",
    "from data_analytics.src.data import load_data\n",
    "from data_analytics.src.data import test_unit\n",
    "from data_analytics.src.features import data_munging"
   ]
  },
  {
   "cell_type": "code",
   "execution_count": 3,
   "metadata": {},
   "outputs": [
    {
     "output_type": "stream",
     "name": "stdout",
     "text": [
      "Loaded Dash dataframe ...\n<class 'pandas.core.frame.DataFrame'>\nInt64Index: 22315 entries, 0 to 49092\nData columns (total 16 columns):\nid             22315 non-null object\ndocType        22315 non-null object\nbusType        22315 non-null object\nproType        22315 non-null object\ntimeId         22315 non-null object\nquantity       22315 non-null float64\ncurveType      22315 non-null object\nresolution     22315 non-null object\nsetDate        22315 non-null object\nsetPeriod      22315 non-null float64\npowType        22315 non-null object\nactFlag        22315 non-null object\ndocId          22315 non-null object\ndocRevNum      22315 non-null object\n_ts            22315 non-null int64\nsetDatetime    22315 non-null datetime64[ns]\ndtypes: datetime64[ns](1), float64(2), int64(1), object(12)\nmemory usage: 2.9+ MB\nNone\n"
     ]
    }
   ],
   "source": [
    "# Load data from local store\n",
    "df_new = load_data.load_dash_dataframe()"
   ]
  },
  {
   "cell_type": "code",
   "execution_count": 4,
   "metadata": {},
   "outputs": [
    {
     "output_type": "stream",
     "name": "stdout",
     "text": [
      "Solar\nWind Onshore\n"
     ]
    }
   ],
   "source": [
    "aggregated_generation = {\n",
    "        \"Solar\": 0,\n",
    "        \"Wind Onshore\": 0\n",
    "        }\n",
    "\n",
    "for key in aggregated_generation:\n",
    "    print(key)\n",
    "    df_generation = df_new[df_new['powType'] == key]"
   ]
  },
  {
   "cell_type": "code",
   "execution_count": 5,
   "metadata": {},
   "outputs": [
    {
     "output_type": "stream",
     "name": "stdout",
     "text": [
      "{'Solar': 8084248.0, 'Wind Offshore': 10104042.729, 'Wind Onshore': 9670097.890999999, 'Hydro Run-of-river and poundage': 1375877.0, 'Hydro Pumped Storage': 640454.0}\n"
     ]
    }
   ],
   "source": [
    "df_test = test_unit.return_aggregate_df(df_new)"
   ]
  },
  {
   "cell_type": "code",
   "execution_count": 6,
   "metadata": {},
   "outputs": [
    {
     "output_type": "stream",
     "name": "stdout",
     "text": [
      "                                     quantity\npowType                                      \nSolar                            8.084248e+06\nWind Offshore                    1.010404e+07\nWind Onshore                     9.670098e+06\nHydro Run-of-river and poundage  1.375877e+06\nHydro Pumped Storage             6.404540e+05\n"
     ]
    }
   ],
   "source": [
    "print(df_test)"
   ]
  },
  {
   "cell_type": "code",
   "execution_count": null,
   "metadata": {},
   "outputs": [],
   "source": []
  }
 ]
}