{
 "metadata": {
  "language_info": {
   "codemirror_mode": {
    "name": "ipython",
    "version": 3
   },
   "file_extension": ".py",
   "mimetype": "text/x-python",
   "name": "python",
   "nbconvert_exporter": "python",
   "pygments_lexer": "ipython3",
   "version": "3.7.4-final"
  },
  "orig_nbformat": 2,
  "kernelspec": {
   "name": "Python 3.7.4 64-bit",
   "display_name": "Python 3.7.4 64-bit",
   "metadata": {
    "interpreter": {
     "hash": "535930ca3099d4dc51db283e59bcfbdfe2c582c9418ff4e43714f9d29a32d324"
    }
   }
  }
 },
 "nbformat": 4,
 "nbformat_minor": 2,
 "cells": [
  {
   "cell_type": "code",
   "execution_count": 1,
   "metadata": {},
   "outputs": [],
   "source": [
    "# Module Importations\n",
    "import datetime\n",
    "from matplotlib import pyplot as plt\n",
    "import pandas as pd\n",
    "import seaborn as sns\n",
    "from sklearn.model_selection import train_test_split"
   ]
  },
  {
   "cell_type": "code",
   "execution_count": 2,
   "metadata": {},
   "outputs": [],
   "source": [
    "# Project Module Importations\n",
    "from data_analytics.src.data import cosmos_client_manager\n",
    "from data_analytics.src.data import load_data\n",
    "from data_analytics.src.data import test_unit\n",
    "from data_analytics.src.features import data_munging"
   ]
  },
  {
   "cell_type": "code",
   "execution_count": 3,
   "metadata": {},
   "outputs": [
    {
     "output_type": "stream",
     "name": "stdout",
     "text": [
      "Loaded Dash dataframe ...\n",
      "<class 'pandas.core.frame.DataFrame'>\n",
      "RangeIndex: 97647 entries, 0 to 97646\n",
      "Data columns (total 16 columns):\n",
      "id             97647 non-null object\n",
      "docType        97647 non-null object\n",
      "busType        97647 non-null object\n",
      "proType        97647 non-null object\n",
      "timeId         97647 non-null object\n",
      "quantity       97647 non-null float64\n",
      "curveType      97647 non-null object\n",
      "resolution     97647 non-null object\n",
      "setDate        97647 non-null object\n",
      "setPeriod      97647 non-null float64\n",
      "powType        97647 non-null object\n",
      "actFlag        97647 non-null object\n",
      "docId          97647 non-null object\n",
      "docRevNum      97647 non-null object\n",
      "_ts            97647 non-null int64\n",
      "setDatetime    97647 non-null datetime64[ns]\n",
      "dtypes: datetime64[ns](1), float64(2), int64(1), object(12)\n",
      "memory usage: 11.9+ MB\n",
      "None\n"
     ]
    }
   ],
   "source": [
    "# Load data from local store\n",
    "df_new = load_data.load_dash_dataframe()"
   ]
  },
  {
   "cell_type": "code",
   "execution_count": 11,
   "metadata": {},
   "outputs": [
    {
     "output_type": "stream",
     "name": "stdout",
     "text": [
      "2020-07-01 00:00:00\n2021-01-01 00:00:00\n                                                   id  \\\n0                                2020-08-01-P01-Solar   \n1                        2020-08-01-P01-Wind Offshore   \n2                         2020-08-01-P01-Wind Onshore   \n3                                2020-08-01-P01-Other   \n4                              2020-08-01-P01-Nuclear   \n...                                               ...   \n49088                 2020-09-01-P48-Fossil Hard coal   \n49089  2020-09-01-P48-Hydro Run-of-river and poundage   \n49090             2020-09-01-P48-Hydro Pumped Storage   \n49091                          2020-09-01-P48-Biomass   \n49092                            2020-09-01-P48-Solar   \n\n                          docType           busType   proType  \\\n0      Actual generation per type  Solar generation  Realised   \n1      Actual generation per type   Wind generation  Realised   \n2      Actual generation per type   Wind generation  Realised   \n3      Actual generation per type        Production  Realised   \n4      Actual generation per type        Production  Realised   \n...                           ...               ...       ...   \n49088  Actual generation per type        Production  Realised   \n49089  Actual generation per type        Production  Realised   \n49090  Actual generation per type        Production  Realised   \n49091  Actual generation per type        Production  Realised   \n49092  Actual generation per type  Solar generation  Realised   \n\n                            timeId  quantity                    curveType  \\\n0      NGET-EMFIP-AGPT-TS-21630860     1.000  Sequential fixed size block   \n1      NGET-EMFIP-AGPT-TS-21630861  4509.018  Sequential fixed size block   \n2      NGET-EMFIP-AGPT-TS-21630862  1721.168  Sequential fixed size block   \n3      NGET-EMFIP-AGPT-TS-21630863   144.000  Sequential fixed size block   \n4      NGET-EMFIP-AGPT-TS-21630864  5293.000  Sequential fixed size block   \n...                            ...       ...                          ...   \n49088  NGET-EMFIP-AGPT-TS-21647752   646.000  Sequential fixed size block   \n49089  NGET-EMFIP-AGPT-TS-21647753   202.000  Sequential fixed size block   \n49090  NGET-EMFIP-AGPT-TS-21647754     0.000  Sequential fixed size block   \n49091  NGET-EMFIP-AGPT-TS-21647755   914.000  Sequential fixed size block   \n49092  NGET-EMFIP-AGPT-TS-21647745     0.000  Sequential fixed size block   \n\n      resolution     setDate  setPeriod                          powType  \\\n0          PT30M  2020-08-01        1.0                            Solar   \n1          PT30M  2020-08-01        1.0                    Wind Offshore   \n2          PT30M  2020-08-01        1.0                     Wind Onshore   \n3          PT30M  2020-08-01        1.0                            Other   \n4          PT30M  2020-08-01        1.0                          Nuclear   \n...          ...         ...        ...                              ...   \n49088      PT30M  2020-09-01       48.0                 Fossil Hard coal   \n49089      PT30M  2020-09-01       48.0  Hydro Run-of-river and poundage   \n49090      PT30M  2020-09-01       48.0             Hydro Pumped Storage   \n49091      PT30M  2020-09-01       48.0                          Biomass   \n49092      PT30M  2020-09-01       48.0                            Solar   \n\n      actFlag                     docId docRevNum         _ts  \\\n0           Y  NGET-EMFIP-AGPT-06373975         1  1597314362   \n1           Y  NGET-EMFIP-AGPT-06373975         1  1597314362   \n2           Y  NGET-EMFIP-AGPT-06373975         1  1597314362   \n3           Y  NGET-EMFIP-AGPT-06373975         1  1597314362   \n4           Y  NGET-EMFIP-AGPT-06373975         1  1597314362   \n...       ...                       ...       ...         ...   \n49088       Y  NGET-EMFIP-AGPT-06375510         1  1602588071   \n49089       Y  NGET-EMFIP-AGPT-06375510         1  1602588071   \n49090       Y  NGET-EMFIP-AGPT-06375510         1  1602588071   \n49091       Y  NGET-EMFIP-AGPT-06375510         1  1602588071   \n49092       Y  NGET-EMFIP-AGPT-06375510         1  1602588071   \n\n              setDatetime  \n0     2020-08-01 00:00:00  \n1     2020-08-01 00:00:00  \n2     2020-08-01 00:00:00  \n3     2020-08-01 00:00:00  \n4     2020-08-01 00:00:00  \n...                   ...  \n49088 2020-09-01 23:30:00  \n49089 2020-09-01 23:30:00  \n49090 2020-09-01 23:30:00  \n49091 2020-09-01 23:30:00  \n49092 2020-09-01 23:30:00  \n\n[33242 rows x 16 columns]\n"
     ]
    }
   ],
   "source": [
    "# Copy dataframe\n",
    "df_copy = df_new.copy()\n",
    "\n",
    "# Trim dataframe to start and end dates\n",
    "start_date = datetime.datetime(2020,7,1, 0, 0, 0)\n",
    "end_date = datetime.datetime(2021,1,1, 0, 0, 0)\n",
    "\n",
    "df_copy = df_copy[(df_copy['setDatetime'] > start_date)]\n",
    "\n",
    "# Create dict for new dataframe, containing each parameter of interest\n",
    "\n",
    "# Iterate over dict keys and populate stats\n",
    "\n",
    "# Create and return df from dict\n",
    "\n",
    "# Tests\n",
    "print(start_date)\n",
    "print(end_date)\n",
    "print(df_copy)"
   ]
  },
  {
   "cell_type": "code",
   "execution_count": null,
   "metadata": {},
   "outputs": [],
   "source": []
  }
 ]
}