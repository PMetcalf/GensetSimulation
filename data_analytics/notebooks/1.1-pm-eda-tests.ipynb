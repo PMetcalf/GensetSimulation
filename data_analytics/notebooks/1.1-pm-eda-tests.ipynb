{
 "metadata": {
  "language_info": {
   "codemirror_mode": {
    "name": "ipython",
    "version": 3
   },
   "file_extension": ".py",
   "mimetype": "text/x-python",
   "name": "python",
   "nbconvert_exporter": "python",
   "pygments_lexer": "ipython3",
   "version": "3.7.4-final"
  },
  "orig_nbformat": 2,
  "kernelspec": {
   "name": "Python 3.7.4 64-bit",
   "display_name": "Python 3.7.4 64-bit",
   "metadata": {
    "interpreter": {
     "hash": "535930ca3099d4dc51db283e59bcfbdfe2c582c9418ff4e43714f9d29a32d324"
    }
   }
  }
 },
 "nbformat": 4,
 "nbformat_minor": 2,
 "cells": [
  {
   "cell_type": "code",
   "execution_count": 1,
   "metadata": {},
   "outputs": [],
   "source": [
    "# Module Importations\n",
    "import datetime\n",
    "from matplotlib import pyplot as plt\n",
    "import pandas as pd\n",
    "import seaborn as sns\n",
    "from sklearn.model_selection import train_test_split"
   ]
  },
  {
   "cell_type": "code",
   "execution_count": 2,
   "metadata": {},
   "outputs": [],
   "source": [
    "# Project Module Importations\n",
    "from data_analytics.src.data import cosmos_client_manager\n",
    "from data_analytics.src.data import load_data\n",
    "from data_analytics.src.data import test_unit\n",
    "from data_analytics.src.features import data_munging\n",
    "from web_app.business_logic import data_insights"
   ]
  },
  {
   "cell_type": "code",
   "execution_count": 3,
   "metadata": {},
   "outputs": [
    {
     "output_type": "stream",
     "name": "stdout",
     "text": [
      "Loaded Dash dataframe ...\n<class 'pandas.core.frame.DataFrame'>\nRangeIndex: 97647 entries, 0 to 97646\nData columns (total 16 columns):\nid             97647 non-null object\ndocType        97647 non-null object\nbusType        97647 non-null object\nproType        97647 non-null object\ntimeId         97647 non-null object\nquantity       97647 non-null float64\ncurveType      97647 non-null object\nresolution     97647 non-null object\nsetDate        97647 non-null object\nsetPeriod      97647 non-null float64\npowType        97647 non-null object\nactFlag        97647 non-null object\ndocId          97647 non-null object\ndocRevNum      97647 non-null object\n_ts            97647 non-null int64\nsetDatetime    97647 non-null datetime64[ns]\ndtypes: datetime64[ns](1), float64(2), int64(1), object(12)\nmemory usage: 11.9+ MB\nNone\n"
     ]
    }
   ],
   "source": [
    "# Load data from local store\n",
    "df_new = load_data.load_dash_dataframe()"
   ]
  },
  {
   "cell_type": "code",
   "execution_count": 7,
   "metadata": {},
   "outputs": [
    {
     "output_type": "stream",
     "name": "stdout",
     "text": [
      "{'Solar': [0.0, 1904.8563542136098, 9872.0, 16907505.0, 7.7050679748800395], 'Wind Offshore': [0.0, 2461.8414811852185, 6500.587, 21851304.987, 9.958050597333562], 'Wind Onshore': [0.0, 2451.949815457413, 7456.31, 21763506.562, 9.918039204007792], 'Hydro Run-of-river and poundage': [0.0, 378.06140153222174, 1050.0, 3355673.0, 1.5292432896793244], 'Hydro Pumped Storage': [0.0, 147.92012167643082, 2128.0, 1312939.0, 0.5983309921760203], 'Other': [0.0, 163.00608382154124, 424.0, 1446842.0, 0.6593531073278633], 'Nuclear': [0.0, 4886.8925191527715, 6265.0, 43376058.0, 19.767285319290995], 'Fossil Oil': [0.0, 0.0, 0.0, 0.0, 0.0], 'Fossil Gas': [0.0, 10113.23918431726, 25460.0, 89765111.0, 40.90764911958635], 'Fossil Hard coal': [0.0, 157.8262730959892, 4385.0, 1400866.0, 0.6384009795471479], 'Biomass': [0.0, 2056.5294051374494, 3161.0, 18253755.0, 8.31857941617089]}\n"
     ]
    }
   ],
   "source": [
    "# Copy dataframe\n",
    "df_timeseries = df_new.copy()\n",
    "df_timeseries.sort_values(by = ['setDatetime'], inplace = True)\n",
    "\n",
    "# Mask dataframe between start and end dates\n",
    "start_date = datetime.datetime(2020,3,1, 0, 0, 0)\n",
    "end_date = datetime.datetime(2021,1,1, 0, 0, 0)\n",
    "\n",
    "df_timeseries = df_timeseries[(df_timeseries['setDatetime'] > start_date)]\n",
    "df_timeseries = df_timeseries[(df_timeseries['setDatetime'] < end_date)]\n",
    "\n",
    "# Calculate total generation across whole time series\n",
    "total_generation = data_insights.return_total_sum(df_timeseries)\n",
    "\n",
    "# Create dict for new dataframe, containing each parameter of interest\n",
    "data_summary = {\n",
    "        \"Solar\": [0, 0, 0, 0, 0],\n",
    "        \"Wind Offshore\": [0, 0, 0, 0, 0],\n",
    "        \"Wind Onshore\": [0, 0, 0, 0, 0],\n",
    "        \"Hydro Run-of-river and poundage\": [0, 0, 0, 0, 0],\n",
    "        \"Hydro Pumped Storage\": [0, 0, 0, 0, 0],\n",
    "        \"Other\": [0, 0, 0, 0, 0], \n",
    "        \"Nuclear\": [0, 0, 0, 0, 0], \n",
    "        \"Fossil Oil\": [0, 0, 0, 0, 0], \n",
    "        \"Fossil Gas\": [0, 0, 0, 0, 0], \n",
    "        \"Fossil Hard coal\": [0, 0, 0, 0, 0], \n",
    "        \"Biomass\": [0, 0, 0, 0, 0]\n",
    "        }\n",
    "\n",
    "# Iterate over dict keys and populate stats\n",
    "for key in data_summary:\n",
    "\n",
    "    # Determine statistics for each generation type\n",
    "    generation_min = data_insights.return_min(key, df_timeseries)\n",
    "    generation_mean = data_insights.return_mean(key, df_timeseries)\n",
    "    generation_max = data_insights.return_max(key, df_timeseries)\n",
    "    generation_sum = data_insights.return_sum(key, df_timeseries)\n",
    "    generation_percent = (generation_sum / total_generation) * 100\n",
    "\n",
    "    # Update dict with generation statistics\n",
    "    data_summary[key][0] = generation_min\n",
    "    data_summary[key][1] = generation_mean\n",
    "    data_summary[key][2] = generation_max\n",
    "    data_summary[key][3] = generation_sum\n",
    "    data_summary[key][4] = generation_percent\n",
    "\n",
    "# Create and return df from dict\n",
    "\n",
    "# Tests\n",
    "print(data_summary)"
   ]
  },
  {
   "cell_type": "code",
   "execution_count": null,
   "metadata": {},
   "outputs": [],
   "source": []
  }
 ]
}