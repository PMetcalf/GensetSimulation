{
 "metadata": {
  "language_info": {
   "codemirror_mode": {
    "name": "ipython",
    "version": 3
   },
   "file_extension": ".py",
   "mimetype": "text/x-python",
   "name": "python",
   "nbconvert_exporter": "python",
   "pygments_lexer": "ipython3",
   "version": "3.7.4-final"
  },
  "orig_nbformat": 2,
  "kernelspec": {
   "name": "Python 3.7.4 64-bit",
   "display_name": "Python 3.7.4 64-bit",
   "metadata": {
    "interpreter": {
     "hash": "535930ca3099d4dc51db283e59bcfbdfe2c582c9418ff4e43714f9d29a32d324"
    }
   }
  }
 },
 "nbformat": 4,
 "nbformat_minor": 2,
 "cells": [
  {
   "cell_type": "code",
   "execution_count": 1,
   "metadata": {},
   "outputs": [],
   "source": [
    "# Module Importations\n",
    "import datetime\n",
    "from matplotlib import pyplot as plt\n",
    "import pandas as pd\n",
    "import seaborn as sns\n",
    "from sklearn.model_selection import train_test_split"
   ]
  },
  {
   "cell_type": "code",
   "execution_count": 2,
   "metadata": {},
   "outputs": [],
   "source": [
    "# Project Module Importations\n",
    "from data_analytics.src.data import cosmos_client_manager\n",
    "from data_analytics.src.data import load_data\n",
    "from data_analytics.src.data import test_unit\n",
    "from data_analytics.src.features import data_munging"
   ]
  },
  {
   "cell_type": "code",
   "execution_count": 3,
   "metadata": {},
   "outputs": [
    {
     "output_type": "stream",
     "name": "stdout",
     "text": [
      "Loaded Dash dataframe ...\n",
      "<class 'pandas.core.frame.DataFrame'>\n",
      "RangeIndex: 97647 entries, 0 to 97646\n",
      "Data columns (total 16 columns):\n",
      "id             97647 non-null object\n",
      "docType        97647 non-null object\n",
      "busType        97647 non-null object\n",
      "proType        97647 non-null object\n",
      "timeId         97647 non-null object\n",
      "quantity       97647 non-null float64\n",
      "curveType      97647 non-null object\n",
      "resolution     97647 non-null object\n",
      "setDate        97647 non-null object\n",
      "setPeriod      97647 non-null float64\n",
      "powType        97647 non-null object\n",
      "actFlag        97647 non-null object\n",
      "docId          97647 non-null object\n",
      "docRevNum      97647 non-null object\n",
      "_ts            97647 non-null int64\n",
      "setDatetime    97647 non-null datetime64[ns]\n",
      "dtypes: datetime64[ns](1), float64(2), int64(1), object(12)\n",
      "memory usage: 11.9+ MB\n",
      "None\n"
     ]
    }
   ],
   "source": [
    "# Load data from local store\n",
    "df_new = load_data.load_dash_dataframe()"
   ]
  },
  {
   "cell_type": "code",
   "execution_count": 25,
   "metadata": {},
   "outputs": [
    {
     "output_type": "stream",
     "name": "stdout",
     "text": [
      "2020-06-01 00:00:00\n2020-08-01 00:00:00\n                                                   id  \\\n22935                            2020-06-01-P02-Solar   \n22945                          2020-06-01-P02-Biomass   \n22944             2020-06-01-P02-Hydro Pumped Storage   \n22942                 2020-06-01-P02-Fossil Hard coal   \n22943  2020-06-01-P02-Hydro Run-of-river and poundage   \n...                                               ...   \n22920  2020-07-31-P48-Hydro Run-of-river and poundage   \n22921             2020-07-31-P48-Hydro Pumped Storage   \n22922                          2020-07-31-P48-Biomass   \n22923                            2020-07-31-P48-Solar   \n22917                       2020-07-31-P48-Fossil Oil   \n\n                          docType           busType   proType  \\\n22935  Actual generation per type  Solar generation  Realised   \n22945  Actual generation per type        Production  Realised   \n22944  Actual generation per type        Production  Realised   \n22942  Actual generation per type        Production  Realised   \n22943  Actual generation per type        Production  Realised   \n...                           ...               ...       ...   \n22920  Actual generation per type        Production  Realised   \n22921  Actual generation per type        Production  Realised   \n22922  Actual generation per type        Production  Realised   \n22923  Actual generation per type  Solar generation  Realised   \n22917  Actual generation per type        Production  Realised   \n\n                            timeId  quantity                    curveType  \\\n22935  NGET-EMFIP-AGPT-TS-21598652       0.0  Sequential fixed size block   \n22945  NGET-EMFIP-AGPT-TS-21598662    2434.0  Sequential fixed size block   \n22944  NGET-EMFIP-AGPT-TS-21598661       0.0  Sequential fixed size block   \n22942  NGET-EMFIP-AGPT-TS-21598659       0.0  Sequential fixed size block   \n22943  NGET-EMFIP-AGPT-TS-21598660     157.0  Sequential fixed size block   \n...                            ...       ...                          ...   \n22920  NGET-EMFIP-AGPT-TS-21630857     309.0  Sequential fixed size block   \n22921  NGET-EMFIP-AGPT-TS-21630858       0.0  Sequential fixed size block   \n22922  NGET-EMFIP-AGPT-TS-21630859    1697.0  Sequential fixed size block   \n22923  NGET-EMFIP-AGPT-TS-21630849       1.0  Sequential fixed size block   \n22917  NGET-EMFIP-AGPT-TS-21630854       0.0  Sequential fixed size block   \n\n      resolution     setDate  setPeriod                          powType  \\\n22935      PT30M  2020-06-01        2.0                            Solar   \n22945      PT30M  2020-06-01        2.0                          Biomass   \n22944      PT30M  2020-06-01        2.0             Hydro Pumped Storage   \n22942      PT30M  2020-06-01        2.0                 Fossil Hard coal   \n22943      PT30M  2020-06-01        2.0  Hydro Run-of-river and poundage   \n...          ...         ...        ...                              ...   \n22920      PT30M  2020-07-31       48.0  Hydro Run-of-river and poundage   \n22921      PT30M  2020-07-31       48.0             Hydro Pumped Storage   \n22922      PT30M  2020-07-31       48.0                          Biomass   \n22923      PT30M  2020-07-31       48.0                            Solar   \n22917      PT30M  2020-07-31       48.0                       Fossil Oil   \n\n      actFlag                     docId docRevNum         _ts  \\\n22935       Y  NGET-EMFIP-AGPT-06371047         1  1602586204   \n22945       Y  NGET-EMFIP-AGPT-06371047         1  1602586204   \n22944       Y  NGET-EMFIP-AGPT-06371047         1  1602586204   \n22942       Y  NGET-EMFIP-AGPT-06371047         1  1602586204   \n22943       Y  NGET-EMFIP-AGPT-06371047         1  1602586204   \n...       ...                       ...       ...         ...   \n22920       Y  NGET-EMFIP-AGPT-06373974         1  1597315578   \n22921       Y  NGET-EMFIP-AGPT-06373974         1  1597315578   \n22922       Y  NGET-EMFIP-AGPT-06373974         1  1597315578   \n22923       Y  NGET-EMFIP-AGPT-06373974         1  1597315578   \n22917       Y  NGET-EMFIP-AGPT-06373974         1  1597315578   \n\n              setDatetime  \n22935 2020-06-01 00:30:00  \n22945 2020-06-01 00:30:00  \n22944 2020-06-01 00:30:00  \n22942 2020-06-01 00:30:00  \n22943 2020-06-01 00:30:00  \n...                   ...  \n22920 2020-07-31 23:30:00  \n22921 2020-07-31 23:30:00  \n22922 2020-07-31 23:30:00  \n22923 2020-07-31 23:30:00  \n22917 2020-07-31 23:30:00  \n\n[32186 rows x 16 columns]\n"
     ]
    }
   ],
   "source": [
    "# Copy dataframe\n",
    "df_copy = df_new.copy()\n",
    "df_copy.sort_values(by = ['setDatetime'], inplace = True)\n",
    "\n",
    "# Mask dataframe between start and end dates\n",
    "start_date = datetime.datetime(2020,6,1, 0, 0, 0)\n",
    "end_date = datetime.datetime(2020,8,1, 0, 0, 0)\n",
    "\n",
    "df_copy = df_copy[(df_copy['setDatetime'] > start_date)]\n",
    "df_copy = df_copy[(df_copy['setDatetime'] < end_date)]\n",
    "\n",
    "# Create dict for new dataframe, containing each parameter of interest\n",
    "\n",
    "# Iterate over dict keys and populate stats\n",
    "\n",
    "# Create and return df from dict\n",
    "\n",
    "# Tests\n",
    "print(start_date)\n",
    "print(end_date)\n",
    "print(df_copy)"
   ]
  },
  {
   "cell_type": "code",
   "execution_count": null,
   "metadata": {},
   "outputs": [],
   "source": []
  }
 ]
}