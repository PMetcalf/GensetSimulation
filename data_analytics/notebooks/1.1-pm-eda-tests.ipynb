{
 "metadata": {
  "language_info": {
   "codemirror_mode": {
    "name": "ipython",
    "version": 3
   },
   "file_extension": ".py",
   "mimetype": "text/x-python",
   "name": "python",
   "nbconvert_exporter": "python",
   "pygments_lexer": "ipython3",
   "version": "3.7.4-final"
  },
  "orig_nbformat": 2,
  "kernelspec": {
   "name": "Python 3.7.4 64-bit",
   "display_name": "Python 3.7.4 64-bit",
   "metadata": {
    "interpreter": {
     "hash": "535930ca3099d4dc51db283e59bcfbdfe2c582c9418ff4e43714f9d29a32d324"
    }
   }
  }
 },
 "nbformat": 4,
 "nbformat_minor": 2,
 "cells": [
  {
   "cell_type": "code",
   "execution_count": 1,
   "metadata": {},
   "outputs": [],
   "source": [
    "# Module Importations\n",
    "import datetime\n",
    "from matplotlib import pyplot as plt\n",
    "import pandas as pd\n",
    "import seaborn as sns\n",
    "from sklearn.model_selection import train_test_split"
   ]
  },
  {
   "cell_type": "code",
   "execution_count": 2,
   "metadata": {},
   "outputs": [],
   "source": [
    "# Project Module Importations\n",
    "from data_analytics.src.data import cosmos_client_manager\n",
    "from data_analytics.src.data import load_data\n",
    "from data_analytics.src.data import test_unit\n",
    "from data_analytics.src.features import data_munging\n",
    "from web_app.business_logic import data_insights"
   ]
  },
  {
   "cell_type": "code",
   "execution_count": 3,
   "metadata": {},
   "outputs": [
    {
     "output_type": "stream",
     "name": "stdout",
     "text": [
      "Loaded Dash dataframe ...\n<class 'pandas.core.frame.DataFrame'>\nRangeIndex: 97647 entries, 0 to 97646\nData columns (total 16 columns):\nid             97647 non-null object\ndocType        97647 non-null object\nbusType        97647 non-null object\nproType        97647 non-null object\ntimeId         97647 non-null object\nquantity       97647 non-null float64\ncurveType      97647 non-null object\nresolution     97647 non-null object\nsetDate        97647 non-null object\nsetPeriod      97647 non-null float64\npowType        97647 non-null object\nactFlag        97647 non-null object\ndocId          97647 non-null object\ndocRevNum      97647 non-null object\n_ts            97647 non-null int64\nsetDatetime    97647 non-null datetime64[ns]\ndtypes: datetime64[ns](1), float64(2), int64(1), object(12)\nmemory usage: 11.9+ MB\nNone\n"
     ]
    }
   ],
   "source": [
    "# Load data from local store\n",
    "df_new = load_data.load_dash_dataframe()"
   ]
  },
  {
   "cell_type": "code",
   "execution_count": 9,
   "metadata": {},
   "outputs": [
    {
     "output_type": "stream",
     "name": "stdout",
     "text": [
      "                                   0             1          2             3  \\\nSolar                            0.0   1904.856354   9872.000  1.690750e+07   \nWind Offshore                    0.0   2461.841481   6500.587  2.185130e+07   \nWind Onshore                     0.0   2451.949815   7456.310  2.176351e+07   \nHydro Run-of-river and poundage  0.0    378.061402   1050.000  3.355673e+06   \nHydro Pumped Storage             0.0    147.920122   2128.000  1.312939e+06   \nOther                            0.0    163.006084    424.000  1.446842e+06   \nNuclear                          0.0   4886.892519   6265.000  4.337606e+07   \nFossil Oil                       0.0      0.000000      0.000  0.000000e+00   \nFossil Gas                       0.0  10113.239184  25460.000  8.976511e+07   \nFossil Hard coal                 0.0    157.826273   4385.000  1.400866e+06   \nBiomass                          0.0   2056.529405   3161.000  1.825376e+07   \n\n                                         4  \nSolar                             7.705068  \nWind Offshore                     9.958051  \nWind Onshore                      9.918039  \nHydro Run-of-river and poundage   1.529243  \nHydro Pumped Storage              0.598331  \nOther                             0.659353  \nNuclear                          19.767285  \nFossil Oil                        0.000000  \nFossil Gas                       40.907649  \nFossil Hard coal                  0.638401  \nBiomass                           8.318579  \n"
     ]
    }
   ],
   "source": [
    "# Copy dataframe\n",
    "df_timeseries = df_new.copy()\n",
    "df_timeseries.sort_values(by = ['setDatetime'], inplace = True)\n",
    "\n",
    "# Mask dataframe between start and end dates\n",
    "start_date = datetime.datetime(2020,3,1, 0, 0, 0)\n",
    "end_date = datetime.datetime(2021,1,1, 0, 0, 0)\n",
    "\n",
    "df_timeseries = df_timeseries[(df_timeseries['setDatetime'] > start_date)]\n",
    "df_timeseries = df_timeseries[(df_timeseries['setDatetime'] < end_date)]\n",
    "\n",
    "# Calculate total generation across whole time series\n",
    "total_generation = data_insights.return_total_sum(df_timeseries)\n",
    "\n",
    "# Create dict for new dataframe, containing each parameter of interest\n",
    "data_summary = {\n",
    "        \"Solar\": [0, 0, 0, 0, 0],\n",
    "        \"Wind Offshore\": [0, 0, 0, 0, 0],\n",
    "        \"Wind Onshore\": [0, 0, 0, 0, 0],\n",
    "        \"Hydro Run-of-river and poundage\": [0, 0, 0, 0, 0],\n",
    "        \"Hydro Pumped Storage\": [0, 0, 0, 0, 0],\n",
    "        \"Other\": [0, 0, 0, 0, 0], \n",
    "        \"Nuclear\": [0, 0, 0, 0, 0], \n",
    "        \"Fossil Oil\": [0, 0, 0, 0, 0], \n",
    "        \"Fossil Gas\": [0, 0, 0, 0, 0], \n",
    "        \"Fossil Hard coal\": [0, 0, 0, 0, 0], \n",
    "        \"Biomass\": [0, 0, 0, 0, 0]\n",
    "        }\n",
    "\n",
    "# Iterate over dict keys and populate stats\n",
    "for key in data_summary:\n",
    "\n",
    "    # Determine statistics for each generation type\n",
    "    generation_min = data_insights.return_min(key, df_timeseries)\n",
    "    generation_mean = data_insights.return_mean(key, df_timeseries)\n",
    "    generation_max = data_insights.return_max(key, df_timeseries)\n",
    "    generation_sum = data_insights.return_sum(key, df_timeseries)\n",
    "    generation_percent = (generation_sum / total_generation) * 100\n",
    "\n",
    "    # Update dict with generation statistics\n",
    "    data_summary[key][0] = generation_min\n",
    "    data_summary[key][1] = generation_mean\n",
    "    data_summary[key][2] = generation_max\n",
    "    data_summary[key][3] = generation_sum\n",
    "    data_summary[key][4] = generation_percent\n",
    "\n",
    "# Create and return df from dict\n",
    "df_summary = pd.DataFrame.from_dict(data_summary, orient='index')\n",
    "\n",
    "# Tests\n",
    "print(df_summary)"
   ]
  },
  {
   "cell_type": "code",
   "execution_count": null,
   "metadata": {},
   "outputs": [],
   "source": []
  }
 ]
}